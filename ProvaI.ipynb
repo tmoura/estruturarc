{
  "nbformat": 4,
  "nbformat_minor": 0,
  "metadata": {
    "colab": {
      "name": "ProvaI.ipynb",
      "provenance": [],
      "include_colab_link": true
    },
    "kernelspec": {
      "name": "python3",
      "display_name": "Python 3"
    }
  },
  "cells": [
    {
      "cell_type": "markdown",
      "metadata": {
        "id": "view-in-github",
        "colab_type": "text"
      },
      "source": [
        "<a href=\"https://colab.research.google.com/github/tmoura/estruturarc/blob/master/ProvaI.ipynb\" target=\"_parent\"><img src=\"https://colab.research.google.com/assets/colab-badge.svg\" alt=\"Open In Colab\"/></a>"
      ]
    },
    {
      "cell_type": "code",
      "metadata": {
        "id": "soCKoj6eBd1Q",
        "colab_type": "code",
        "colab": {}
      },
      "source": [
        "# 1) Criar a classe Pessoa com as seguintes características: \n",
        "# • atributos: idade, dia, mês e ano de nascimento, nome da pessoa \n",
        "# • métodos: calculaIdade(), que recebe a data atual em dias, mês e anos e calcula e armazena no atributo idade a idade atual da pessoa \n",
        "# informaIdade(), que retorna o valor da idade \n",
        "# informaNome(), que retorna o nome da pessoa\n",
        "# ajustaDataDeNascimento(), que recebe dia, mês e ano de nascimento como parâmetros e preenche nos atributos correspondentes do objeto. \n",
        "\n",
        "# Criar dois objetos da classe Pessoa, um representando Albert Einstein (nascido em 14/3/1879) e o outro representando \n",
        "# Isaac Newton (nascido em 4/1/1643). Fazer um programa principal que instancie os objetos, inicialize e mostre quais \n",
        "# seriam as idades de Einstein e Newton caso estivessem vivos."
      ],
      "execution_count": 0,
      "outputs": []
    },
    {
      "cell_type": "code",
      "metadata": {
        "id": "Q6TS8w6UB1Vh",
        "colab_type": "code",
        "colab": {}
      },
      "source": [
        "# 2) Fazer um programa com as seguintes características: \n",
        "\n",
        "# • Uma classe chamada Universidade que terá como atributo um nome e terá um método para informar o seu nome. \n",
        "# • Classe Pessoa: Possui os atributos nome e universidade. O atributo universidade é um objeto da classe universidade.\n",
        "# • A classe Pessoa, por sua vez, terá um método que dirá seu nome e em que universidade trabalha.\n",
        "# • Criar dois objetos da classe Pessoa, um representando João e o outro representando Maria\n",
        "# • Criar dois objetos de Universidade, associando um para João e outro para Maria. \n",
        "# – João trabalhou como professor de física em Princeton. \n",
        "# – Maria trabalhou como professora de matemática em Cambridge.\n",
        "\n",
        "# Escreve um programa que, através dos objetos pessoa, imprima o nome de cada uma delas e em que universidades trabalharam."
      ],
      "execution_count": 0,
      "outputs": []
    },
    {
      "cell_type": "code",
      "metadata": {
        "id": "Une-eYUmB7lY",
        "colab_type": "code",
        "colab": {}
      },
      "source": [
        "# 3)  Escreva uma classe que represente um Aluno. Um aluno tem como atributos o seu nome, nome do curso e lista das disciplinas cursadas.\n",
        "\n",
        "# A classe Disciplina possui dois atributos: nome e professor.\n",
        "\n",
        "# Implemente o que se pede:\n",
        "\n",
        "# a) Construtor que inicialize os atributos tanto para a classe Aluno como para a classe Disciplina;\n",
        "# b) Métodos de acesso para os atributos: get_nome(…), set_nome(…), etc., para as duas classes;\n",
        "# c) Método que retorne a lista de disciplinas do aluno;\n",
        "# d) Método que adiciona uma nova disciplina ao aluno;\n",
        "# e) Método que imprime todas as disciplinas de um aluno;\n",
        "# e) Método __str__(self) na classe Aluno e na classe Disciplina.\n",
        "\n",
        "# Escreva um programa que crie 3 disciplinas e 1 aluno. Adicione as 3 disciplinas ao aluno. \n",
        "# Imprima, através do objeto aluno, o nome e o professor de todas as suas disciplinas."
      ],
      "execution_count": 0,
      "outputs": []
    }
  ]
}