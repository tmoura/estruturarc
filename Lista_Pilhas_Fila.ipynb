{
  "nbformat": 4,
  "nbformat_minor": 0,
  "metadata": {
    "colab": {
      "name": "Lista-Pilhas-Fila.ipynb",
      "provenance": [],
      "include_colab_link": true
    },
    "kernelspec": {
      "name": "python3",
      "display_name": "Python 3"
    }
  },
  "cells": [
    {
      "cell_type": "markdown",
      "metadata": {
        "id": "view-in-github",
        "colab_type": "text"
      },
      "source": [
        "<a href=\"https://colab.research.google.com/github/tmoura/estruturarc/blob/master/Lista_Pilhas_Fila.ipynb\" target=\"_parent\"><img src=\"https://colab.research.google.com/assets/colab-badge.svg\" alt=\"Open In Colab\"/></a>"
      ]
    },
    {
      "cell_type": "code",
      "metadata": {
        "id": "J0C5T88UdMi_",
        "colab_type": "code",
        "colab": {}
      },
      "source": [
        "class No:\n",
        "\n",
        "  def __init__(self, dado = None, proximo = None):\n",
        "    self.dado = dado\n",
        "    self.proximo = None\n",
        "\n",
        "  def get_dado(self):\n",
        "    return self.dado\n",
        "  \n",
        "  def set_dado(self, novoDado):\n",
        "    self.dado = novoDado\n",
        "\n",
        "  def get_proximo(self):\n",
        "    return self.proximo\n",
        "  \n",
        "  def set_proximo(self, next):\n",
        "    self.proximo = next"
      ],
      "execution_count": 0,
      "outputs": []
    },
    {
      "cell_type": "code",
      "metadata": {
        "id": "tmcSAbtRdDo6",
        "colab_type": "code",
        "colab": {}
      },
      "source": [
        "#######\n",
        "# PILHA\n",
        "#######\n",
        "\n",
        "class Pilha:\n",
        "\n",
        "  def __init__(self, topo = None):\n",
        "    self.topo = topo\n",
        "  \n",
        "  def push(self, elem):\n",
        "    elem.set_proximo(self.topo)\n",
        "    self.topo = elem\n",
        "\n",
        "  def pop(self):\n",
        "    self.topo = self.topo.get_proximo()\n",
        "  \n",
        "  def exibirTopo(self):\n",
        "    return \"{}\".format(self.topo.dado)\n",
        "\n",
        "\n",
        "#######\n",
        "#Teste\n",
        "#######\n",
        "\n",
        "pilha = Pilha()\n",
        "novo = No(10)\n",
        "\n",
        "pilha.push(novo)\n",
        "print(pilha.exibirTopo())"
      ],
      "execution_count": 0,
      "outputs": []
    },
    {
      "cell_type": "code",
      "metadata": {
        "id": "Eoh4wPHVeyoc",
        "colab_type": "code",
        "colab": {}
      },
      "source": [
        "#######\n",
        "# FILA\n",
        "#######\n",
        "\n",
        "class Fila:\n",
        "\n",
        "  def __init__(self, cabeca = None):\n",
        "    self.cabeca = cabeca\n",
        "  \n",
        "  def add(self, elem):\n",
        "    if self.cabeca == None:\n",
        "      self.cabeca = elem\n",
        "    else:\n",
        "      aux = self.cabeca\n",
        "      while aux.get_proximo() != None:\n",
        "        aux = aux.get_proximo()\n",
        "      \n",
        "      aux.set_proximo(elem)\n",
        "\n",
        "  def remove(self):\n",
        "    self.cabeca = self.cabeca.get_proximo()\n",
        "  \n",
        "  def exibirCabeca(self):\n",
        "    return \"{}\".format(self.cabeca.dado)\n",
        "\n",
        "\n",
        "#######\n",
        "#Teste\n",
        "#######\n",
        "\n",
        "fila = Fila()\n",
        "novo = No(10)\n",
        "\n",
        "fila.add(novo)\n",
        "print(fila.exibirCabeca())"
      ],
      "execution_count": 0,
      "outputs": []
    },
    {
      "cell_type": "code",
      "metadata": {
        "id": "J5rHgg0Kf6x2",
        "colab_type": "code",
        "colab": {}
      },
      "source": [
        "#######\n",
        "# LISTA ENCADEADA\n",
        "#######"
      ],
      "execution_count": 0,
      "outputs": []
    }
  ]
}