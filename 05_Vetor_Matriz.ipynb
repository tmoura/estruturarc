{
  "nbformat": 4,
  "nbformat_minor": 0,
  "metadata": {
    "colab": {
      "name": "05-Vetor-Matriz.ipynb",
      "provenance": [],
      "include_colab_link": true
    },
    "kernelspec": {
      "name": "python3",
      "display_name": "Python 3"
    }
  },
  "cells": [
    {
      "cell_type": "markdown",
      "metadata": {
        "id": "view-in-github",
        "colab_type": "text"
      },
      "source": [
        "<a href=\"https://colab.research.google.com/github/tmoura/estruturarc/blob/master/05_Vetor_Matriz.ipynb\" target=\"_parent\"><img src=\"https://colab.research.google.com/assets/colab-badge.svg\" alt=\"Open In Colab\"/></a>"
      ]
    },
    {
      "cell_type": "code",
      "metadata": {
        "id": "Rl_b7DQDsCv9",
        "colab_type": "code",
        "colab": {}
      },
      "source": [
        "lista1 = [1, 2, 3, 4, 5]\n",
        "lista2 = [1, 2, 4.5, 'thiago']\n",
        "\n",
        "print(lista2)"
      ],
      "execution_count": 0,
      "outputs": []
    },
    {
      "cell_type": "code",
      "metadata": {
        "id": "7PQCQUn8t50B",
        "colab_type": "code",
        "colab": {}
      },
      "source": [
        "lista3 = []\n",
        "lista4 = list()\n",
        "\n",
        "lista5 = list(range(2,31,2))\n",
        "\n",
        "print(lista5)"
      ],
      "execution_count": 0,
      "outputs": []
    },
    {
      "cell_type": "code",
      "metadata": {
        "id": "1yV9MQ0SujNk",
        "colab_type": "code",
        "colab": {}
      },
      "source": [
        "#############\n",
        "# Manipulação\n",
        "#############\n",
        "\n",
        "lista = [2, 4, 6, 8, 10]\n",
        "\n",
        "print(lista[0])\n",
        "print(lista[4])\n",
        "print('Tamanho da lista:',len(lista))\n",
        "\n",
        "# Detalhes\n",
        "print(lista[2:])\n",
        "print(lista[:2])\n",
        "print(lista[1:3])\n"
      ],
      "execution_count": 0,
      "outputs": []
    },
    {
      "cell_type": "code",
      "metadata": {
        "id": "Pgb8ulqtvNww",
        "colab_type": "code",
        "colab": {}
      },
      "source": [
        "#########\n",
        "# Métodos - ADICIONAR\n",
        "#########\n",
        "\n",
        "lista = [2, 4, 6, 8, 10]\n",
        "\n",
        "lista.append(15) # Adiciona no final\n",
        "lista.insert(0,40) # Adiciona na posição passada, no caso 0\n",
        "\n",
        "print(lista)"
      ],
      "execution_count": 0,
      "outputs": []
    },
    {
      "cell_type": "code",
      "metadata": {
        "id": "ThrEUaZzwW_A",
        "colab_type": "code",
        "colab": {}
      },
      "source": [
        "#########\n",
        "# Métodos - REMOVER\n",
        "#########\n",
        "\n",
        "lista = [2, 4, 6, 8, 10]\n",
        "\n",
        "lista.pop() # Remove do final\n",
        "lista.pop(0) # Remove da posição 0 (zero)\n",
        "lista.remove(6) # Remove algum elemento\n",
        "\n",
        "print(lista)"
      ],
      "execution_count": 0,
      "outputs": []
    },
    {
      "cell_type": "code",
      "metadata": {
        "id": "PY-coGicwytl",
        "colab_type": "code",
        "colab": {}
      },
      "source": [
        "#########\n",
        "# Concatenar\n",
        "#########\n",
        "\n",
        "lista1 = [2, 3, 4]\n",
        "lista2 = [5, 6, 7]\n",
        "\n",
        "lista1 = lista1 + lista2\n",
        "\n",
        "print(lista1)"
      ],
      "execution_count": 0,
      "outputs": []
    },
    {
      "cell_type": "code",
      "metadata": {
        "id": "6n9WjgrAxNCn",
        "colab_type": "code",
        "colab": {}
      },
      "source": [
        "#########\n",
        "# Métodos Especiais\n",
        "#########\n",
        "\n",
        "lista = [4, 6, 2, 3, 8, 1]\n",
        "\n",
        "print(sum(lista))\n",
        "\n",
        "#lista.sort()\n",
        "\n",
        "#print(lista)\n",
        "\n",
        "#lista.reverse()\n",
        "\n",
        "#print(lista)"
      ],
      "execution_count": 0,
      "outputs": []
    },
    {
      "cell_type": "code",
      "metadata": {
        "id": "-TzicE98x_H3",
        "colab_type": "code",
        "colab": {}
      },
      "source": [
        "#################\n",
        "#\n",
        "# MATRIZES => Lista e Lista\n",
        "#\n",
        "#################\n",
        "\n",
        "lista1 = [1, 2, 3]\n",
        "lista2 = [3, 4, 5]\n",
        "lista3 = [6, 7, 8]\n",
        "\n",
        "lista = [lista1, lista2, lista3]\n",
        "\n",
        "print(lista)\n",
        "\n",
        "#print(lista[1][2])"
      ],
      "execution_count": 0,
      "outputs": []
    }
  ]
}