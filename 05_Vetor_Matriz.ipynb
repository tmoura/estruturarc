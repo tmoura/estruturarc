{
  "nbformat": 4,
  "nbformat_minor": 0,
  "metadata": {
    "colab": {
      "name": "05-Vetor-Matriz.ipynb",
      "provenance": [],
      "include_colab_link": true
    },
    "kernelspec": {
      "name": "python3",
      "display_name": "Python 3"
    }
  },
  "cells": [
    {
      "cell_type": "markdown",
      "metadata": {
        "id": "view-in-github",
        "colab_type": "text"
      },
      "source": [
        "<a href=\"https://colab.research.google.com/github/tmoura/estruturarc/blob/master/05_Vetor_Matriz.ipynb\" target=\"_parent\"><img src=\"https://colab.research.google.com/assets/colab-badge.svg\" alt=\"Open In Colab\"/></a>"
      ]
    },
    {
      "cell_type": "code",
      "metadata": {
        "id": "Rl_b7DQDsCv9",
        "colab_type": "code",
        "colab": {}
      },
      "source": [
        "lista1 = [1, 2, 3, 4, 5]\n",
        "lista2 = [1, 2, 4.5, 'thiago']\n",
        "\n",
        "print(lista2)\n",
        "\n",
        "lista3 = []\n",
        "lista4 = list()\n",
        "lista5 = list(range(2,31,2))\n",
        "\n",
        "print(lista5)"
      ],
      "execution_count": 0,
      "outputs": []
    }
  ]
}