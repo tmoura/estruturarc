{
  "nbformat": 4,
  "nbformat_minor": 0,
  "metadata": {
    "colab": {
      "name": "01-Exemplos.ipynb",
      "provenance": [],
      "include_colab_link": true
    },
    "kernelspec": {
      "name": "python3",
      "display_name": "Python 3"
    }
  },
  "cells": [
    {
      "cell_type": "markdown",
      "metadata": {
        "id": "view-in-github",
        "colab_type": "text"
      },
      "source": [
        "<a href=\"https://colab.research.google.com/github/tmoura/estruturarc/blob/master/01_Exemplos.ipynb\" target=\"_parent\"><img src=\"https://colab.research.google.com/assets/colab-badge.svg\" alt=\"Open In Colab\"/></a>"
      ]
    },
    {
      "cell_type": "code",
      "metadata": {
        "id": "68FxQflIdjl7",
        "colab_type": "code",
        "colab": {}
      },
      "source": [
        "####################\n",
        "# Tipos de Variáveis\n",
        "####################\n",
        "\n",
        "i = 10\n",
        "f = 5.0\n",
        "s1 = 'THIAGO'\n",
        "s2 = \"thiago\"\n",
        "b1 = True\n",
        "b2 = False\n",
        "\n",
        "print(s2)"
      ],
      "execution_count": 0,
      "outputs": []
    },
    {
      "cell_type": "code",
      "metadata": {
        "id": "UnCTAPRsh6Bf",
        "colab_type": "code",
        "colab": {}
      },
      "source": [
        "#######################\n",
        "# Operações Aritméticas\n",
        "#######################\n",
        "\n",
        "# Soma\n",
        "\n",
        "r = i + 5\n",
        "\n",
        "print(r)\n",
        "\n",
        "# Divisão real\n",
        "\n",
        "r = i / 2\n",
        "\n",
        "print(r)\n",
        "\n",
        "# Divisão inteira\n",
        "\n",
        "r = i // 2\n",
        "\n",
        "print(r)"
      ],
      "execution_count": 0,
      "outputs": []
    },
    {
      "cell_type": "code",
      "metadata": {
        "id": "asTSl6oyjDDG",
        "colab_type": "code",
        "colab": {}
      },
      "source": [
        "# Potência\n",
        "\n",
        "j = 2\n",
        "r = j ** 2\n",
        "\n",
        "print(r)\n",
        "\n",
        "# Resto da Divisão\n",
        "j = 3\n",
        "r = j % 2\n",
        "\n",
        "print(r)"
      ],
      "execution_count": 0,
      "outputs": []
    },
    {
      "cell_type": "code",
      "metadata": {
        "id": "oCoD8kIsjYSC",
        "colab_type": "code",
        "colab": {}
      },
      "source": [
        "#######################\n",
        "# Operações Aritméticas\n",
        "#######################\n",
        "\n",
        "x = 2\n",
        "y = 3\n",
        "\n",
        "print()"
      ],
      "execution_count": 0,
      "outputs": []
    }
  ]
}