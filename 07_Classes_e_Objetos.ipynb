{
  "nbformat": 4,
  "nbformat_minor": 0,
  "metadata": {
    "colab": {
      "name": "07_Classes e Objetos.ipynb",
      "provenance": [],
      "include_colab_link": true
    },
    "kernelspec": {
      "name": "python3",
      "display_name": "Python 3"
    }
  },
  "cells": [
    {
      "cell_type": "markdown",
      "metadata": {
        "id": "view-in-github",
        "colab_type": "text"
      },
      "source": [
        "<a href=\"https://colab.research.google.com/github/tmoura/estruturarc/blob/master/07_Classes_e_Objetos.ipynb\" target=\"_parent\"><img src=\"https://colab.research.google.com/assets/colab-badge.svg\" alt=\"Open In Colab\"/></a>"
      ]
    },
    {
      "cell_type": "code",
      "metadata": {
        "id": "tEW1oFT5o_oF",
        "colab_type": "code",
        "colab": {}
      },
      "source": [
        "##############\n",
        "# Classe Conta\n",
        "##############\n",
        "\n",
        "class Conta:\n",
        "  \n",
        "  def __init__(self,n,s):\n",
        "    self.numero = n\n",
        "    self.saldo = s\n",
        "\n",
        "##############\n",
        "# Objeto Conta\n",
        "##############\n",
        "\n",
        "minha_conta = Conta('1234-5',150)\n",
        "\n",
        "print('O número da conta é:',minha_conta.numero)\n",
        "print('O saldo da conta é:',minha_conta.saldo)\n"
      ],
      "execution_count": 0,
      "outputs": []
    },
    {
      "cell_type": "code",
      "metadata": {
        "id": "5LFx8de2u5cr",
        "colab_type": "code",
        "colab": {}
      },
      "source": [
        "##############\n",
        "# Classe Ponto\n",
        "##############\n",
        "\n",
        "class Ponto:\n",
        "  \n",
        "  def __init__(self,x,y):\n",
        "    self.x = x\n",
        "    self.y = y\n",
        "\n",
        "##############\n",
        "# Objeto Ponto\n",
        "##############\n",
        "\n",
        "ponto = Ponto(1.3, 2.4)\n",
        "\n",
        "print('As coordenadas do ponto são:',ponto.x,'e',ponto.y)"
      ],
      "execution_count": 0,
      "outputs": []
    },
    {
      "cell_type": "code",
      "metadata": {
        "id": "wyiRYCu5p883",
        "colab_type": "code",
        "colab": {}
      },
      "source": [
        "##############\n",
        "# Classe Veiculo\n",
        "##############\n",
        "\n",
        "class Veiculo:\n",
        "  \n",
        "  def __init__(self, tipo, tamanho=0):\n",
        "    self.tipo = tipo\n",
        "    self.tamanho = tamanho\n",
        "\n",
        "##############\n",
        "# Objeto Veiculo\n",
        "##############\n",
        "\n",
        "veiculo1 = Veiculo('Avião',35)\n",
        "veiculo2 = Veiculo('Carro',5)\n",
        "\n",
        "print('O veículo é um:',veiculo1.tipo)\n",
        "print('O veiculo possui',veiculo1.tamanho, 'metros')\n",
        "\n",
        "print('O veículo é um:',veiculo2.tipo)\n",
        "print('O veiculo possui',veiculo2.tamanho, 'metros')\n"
      ],
      "execution_count": 0,
      "outputs": []
    },
    {
      "cell_type": "code",
      "metadata": {
        "id": "BSHfHAnftWEJ",
        "colab_type": "code",
        "colab": {}
      },
      "source": [
        "#############\n",
        "#\n",
        "# Exercício: Criar as Classes \"Retângulo\" e \"Aluno\"\n",
        "#\n",
        "# Definir os atributos:\n",
        "#\n",
        "# Retângulo: Base e Altura\n",
        "# Aluno: Nome, Matrícula, Idade, Curso\n",
        "#\n",
        "# Escreva um programinha para criar e testar os objetos\n",
        "#############"
      ],
      "execution_count": 0,
      "outputs": []
    },
    {
      "cell_type": "code",
      "metadata": {
        "id": "XOneZsJdzVjq",
        "colab_type": "code",
        "colab": {}
      },
      "source": [
        "################\n",
        "#\n",
        "# Métodos\n",
        "#\n",
        "################\n",
        "class Ponto:\n",
        "  \n",
        "  def __init__(self,x,y):\n",
        "    self.x = x\n",
        "    self.y = y\n",
        "  \n",
        "  def quadrante(self):\n",
        "    \n",
        "    if self.x > 0 and self.y > 0:\n",
        "      return '1 quadrante'\n",
        "    elif self.x < 0 and self.y > 0:\n",
        "      return '2 quadrante'\n",
        "    elif self.x < 0 and self.y < 0:\n",
        "      return '3 quadrante'\n",
        "    elif self.x > 0 and self.y < 0:\n",
        "      return '4 quadrante'\n",
        "    else:\n",
        "      return 'Nenhum dos quadrantes'\n",
        "\n",
        "#########\n",
        "#\n",
        "# Objeto Ponto\n",
        "#\n",
        "#########\n",
        "\n",
        "ponto = Ponto(3.2, -4.3)\n",
        "\n",
        "print('As coordenadas do ponto são:',ponto.x,'e',ponto.y)\n",
        "print('O ponto está no:',ponto.quadrante())\n",
        "\n",
        "    "
      ],
      "execution_count": 0,
      "outputs": []
    },
    {
      "cell_type": "code",
      "metadata": {
        "id": "7GyeBEPG0lkw",
        "colab_type": "code",
        "colab": {}
      },
      "source": [
        "#############\n",
        "#\n",
        "# Exercício: Implementar os seguintes métodos da classe 'Retângulo'\n",
        "#\n",
        "# - calcula_area\n",
        "# - eh_quadrado\n",
        "#\n",
        "# Escreva um programinha para criar e testar os objetos\n",
        "#############"
      ],
      "execution_count": 0,
      "outputs": []
    },
    {
      "cell_type": "code",
      "metadata": {
        "id": "9W1YrJb63okN",
        "colab_type": "code",
        "colab": {}
      },
      "source": [
        "#################\n",
        "#\n",
        "# Objetos e Listas\n",
        "#\n",
        "#################\n",
        "class Ponto:\n",
        "  \n",
        "  def __init__(self,x,y):\n",
        "    self.x = x\n",
        "    self.y = y\n",
        "  \n",
        "  def quadrante(self):\n",
        "    \n",
        "    if self.x > 0 and self.y > 0:\n",
        "      return '1 quadrante'\n",
        "    elif self.x < 0 and self.y > 0:\n",
        "      return '2 quadrante'\n",
        "    elif self.x < 0 and self.y < 0:\n",
        "      return '3 quadrante'\n",
        "    elif self.x > 0 and self.y < 0:\n",
        "      return '4 quadrante'\n",
        "    else:\n",
        "      return 'Nenhum dos quadrantes'\n",
        "\n",
        "#############\n",
        "\n",
        "lista_pontos = []\n",
        "\n",
        "p1 = Ponto(1.3, -3.2)\n",
        "lista_pontos.append(p1)\n",
        "\n",
        "p2 = Ponto(-3.3, -2.2)\n",
        "lista_pontos.append(p2)\n",
        "\n",
        "p3 = Ponto(1.3, 4.2)\n",
        "lista_pontos.append(p3)\n",
        "\n",
        "p4 = Ponto(-1.3, 2.2)\n",
        "lista_pontos.append(p4)\n",
        "\n",
        "#########\n",
        "# Imprimir todos os quadrantes dos pontos\n",
        "#########\n",
        "\n",
        "for i in range(len(lista_pontos)):\n",
        "  print('O ponto',i+1, 'está no:',lista_pontos[i].quadrante())"
      ],
      "execution_count": 0,
      "outputs": []
    }
  ]
}