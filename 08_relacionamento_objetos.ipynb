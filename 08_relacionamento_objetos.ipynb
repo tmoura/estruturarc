{
  "nbformat": 4,
  "nbformat_minor": 0,
  "metadata": {
    "colab": {
      "name": "08_relacionamento_objetos.ipynb",
      "provenance": [],
      "include_colab_link": true
    },
    "kernelspec": {
      "name": "python3",
      "display_name": "Python 3"
    }
  },
  "cells": [
    {
      "cell_type": "markdown",
      "metadata": {
        "id": "view-in-github",
        "colab_type": "text"
      },
      "source": [
        "<a href=\"https://colab.research.google.com/github/tmoura/estruturarc/blob/master/08_relacionamento_objetos.ipynb\" target=\"_parent\"><img src=\"https://colab.research.google.com/assets/colab-badge.svg\" alt=\"Open In Colab\"/></a>"
      ]
    },
    {
      "cell_type": "code",
      "metadata": {
        "id": "ziI3iStrslfT",
        "colab_type": "code",
        "colab": {}
      },
      "source": [
        "############\n",
        "# Atributos Privados\n",
        "#\n",
        "# Uso do \"_\" (underscore)\n",
        "############\n",
        "\n",
        "class Aluno:\n",
        "  def __init__(self,nome,idade = 0):\n",
        "    self._nome = nome\n",
        "    self._idade = idade\n",
        "\n",
        "  def set_idade(self,idade):\n",
        "    if idade >= 0:\n",
        "      self._idade = idade\n",
        "\n",
        "  def get_idade(self):\n",
        "    return self._idade\n",
        "\n",
        "\n",
        "carlos = Aluno('Carlos',30)\n",
        "carlos.set_idade(-5)\n",
        "\n",
        "print('A idade de Carlos é:',carlos.get_idade())\n"
      ],
      "execution_count": 0,
      "outputs": []
    },
    {
      "cell_type": "code",
      "metadata": {
        "id": "REjmmKOjrRJp",
        "colab_type": "code",
        "colab": {}
      },
      "source": [
        "############\n",
        "# Atributos Privados\n",
        "#\n",
        "# Uso do \"_\" (underscore)\n",
        "############\n",
        "\n",
        "class Ponto:\n",
        "  def __init__(self,x,y):\n",
        "    self._x = x\n",
        "    self._y = y\n",
        "\n",
        "  def get_x(self):\n",
        "    return self._x\n",
        "  \n",
        "  def set_x(self,x):\n",
        "    self._x = x\n",
        "\n",
        "  def get_y(self):\n",
        "    return self._y\n",
        "  \n",
        "  def set_y(self,y):\n",
        "    self._y = y\n",
        "\n",
        "\n",
        "p1 = Ponto(-5,8)\n",
        "\n",
        "print('As coordenadas do ponto são:',p1.get_x(),'e',p1.get_y())\n",
        "print('As coordenadas do ponto são:',p1._x,'e',p1._y)\n",
        "\n",
        "  \n"
      ],
      "execution_count": 0,
      "outputs": []
    }
  ]
}