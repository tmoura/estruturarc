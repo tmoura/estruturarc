{
  "nbformat": 4,
  "nbformat_minor": 0,
  "metadata": {
    "colab": {
      "name": "06_Funcoes.ipynb",
      "provenance": [],
      "include_colab_link": true
    },
    "kernelspec": {
      "name": "python3",
      "display_name": "Python 3"
    }
  },
  "cells": [
    {
      "cell_type": "markdown",
      "metadata": {
        "id": "view-in-github",
        "colab_type": "text"
      },
      "source": [
        "<a href=\"https://colab.research.google.com/github/tmoura/estruturarc/blob/master/06_Funcoes.ipynb\" target=\"_parent\"><img src=\"https://colab.research.google.com/assets/colab-badge.svg\" alt=\"Open In Colab\"/></a>"
      ]
    },
    {
      "cell_type": "code",
      "metadata": {
        "id": "QWJIPlit6Qbd",
        "colab_type": "code",
        "colab": {
          "base_uri": "https://localhost:8080/",
          "height": 51
        },
        "outputId": "5a2a1d7c-4c5e-449e-d901-d0c41cdfaced"
      },
      "source": [
        "#############\n",
        "# SEM retorno\n",
        "#############\n",
        "def apresentacao(nome, idade):\n",
        "  print('Olá, meu nome é:',nome)\n",
        "  print('eu tenho',idade, 'anos')\n",
        "\n",
        "#####\n",
        "# Chamada\n",
        "#####\n",
        "apresentacao('Thiago',40)"
      ],
      "execution_count": 1,
      "outputs": [
        {
          "output_type": "stream",
          "text": [
            "Olá, meu nome é: Thiago\n",
            "eu tenho 40 anos\n"
          ],
          "name": "stdout"
        }
      ]
    },
    {
      "cell_type": "code",
      "metadata": {
        "id": "6CFgF0fL83cx",
        "colab_type": "code",
        "colab": {}
      },
      "source": [
        "#############\n",
        "# COM retorno\n",
        "#############\n",
        "def soma(lista):\n",
        "  r = 0\n",
        "  \n",
        "  for i in range(len(lista)):\n",
        "    r += lista[i]"
      ],
      "execution_count": 0,
      "outputs": []
    }
  ]
}