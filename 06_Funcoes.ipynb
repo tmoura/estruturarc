{
  "nbformat": 4,
  "nbformat_minor": 0,
  "metadata": {
    "colab": {
      "name": "06_Funcoes.ipynb",
      "provenance": [],
      "include_colab_link": true
    },
    "kernelspec": {
      "name": "python3",
      "display_name": "Python 3"
    }
  },
  "cells": [
    {
      "cell_type": "markdown",
      "metadata": {
        "id": "view-in-github",
        "colab_type": "text"
      },
      "source": [
        "<a href=\"https://colab.research.google.com/github/tmoura/estruturarc/blob/master/06_Funcoes.ipynb\" target=\"_parent\"><img src=\"https://colab.research.google.com/assets/colab-badge.svg\" alt=\"Open In Colab\"/></a>"
      ]
    },
    {
      "cell_type": "code",
      "metadata": {
        "id": "QWJIPlit6Qbd",
        "colab_type": "code",
        "colab": {}
      },
      "source": [
        "#############\n",
        "# SEM retorno\n",
        "#############\n",
        "def apresentacao(nome, idade):\n",
        "  print('Olá, meu nome é:',nome)\n",
        "  print('eu tenho',idade, 'anos')\n",
        "\n",
        "#####\n",
        "# Chamada\n",
        "#####\n",
        "apresentacao(40,'Thiago')"
      ],
      "execution_count": 0,
      "outputs": []
    },
    {
      "cell_type": "code",
      "metadata": {
        "id": "6CFgF0fL83cx",
        "colab_type": "code",
        "colab": {}
      },
      "source": [
        "#############\n",
        "# COM retorno\n",
        "#############\n",
        "def soma(lista):\n",
        "  r = 0\n",
        "  \n",
        "  for i in range(len(lista)):\n",
        "    r += lista[i]\n",
        "  \n",
        "  return r\n",
        "    \n",
        "\n",
        "x = soma([1,2,3,4])\n",
        "print(x)"
      ],
      "execution_count": 0,
      "outputs": []
    },
    {
      "cell_type": "code",
      "metadata": {
        "id": "0wbJ0tMoOCxV",
        "colab_type": "code",
        "colab": {}
      },
      "source": [
        "#############\n",
        "# Parâmetro Default\n",
        "#############\n",
        "def soma(a,b=3):\n",
        "  return a+b\n",
        "\n",
        "r1 = soma(2)\n",
        "r2 = soma(4,6)\n",
        "\n",
        "print(r1)\n",
        "print(r2)"
      ],
      "execution_count": 0,
      "outputs": []
    },
    {
      "cell_type": "code",
      "metadata": {
        "id": "tLJypmPBH5Mu",
        "colab_type": "code",
        "colab": {}
      },
      "source": [
        "###########\n",
        "# Passagem de parâmetro\n",
        "###########\n",
        "def altera_lista(x):\n",
        "  for i in range(len(x)):\n",
        "    if x[i] % 2 != 0:\n",
        "      x[i] = 1\n",
        "\n",
        "lista = [1,2,3,4,5,6,7,8,9]\n",
        "\n",
        "altera_lista(lista)\n",
        "\n",
        "print(lista)"
      ],
      "execution_count": 0,
      "outputs": []
    },
    {
      "cell_type": "code",
      "metadata": {
        "id": "A6FH6D0LSCCo",
        "colab_type": "code",
        "colab": {}
      },
      "source": [
        "#######################\n",
        "#\n",
        "# Exercício 1 - Escreva uma função chamada menor que receba 3 números e retorne o menor deles.Faça\n",
        "# também um programa para testar a função.\n",
        "#\n",
        "#######################\n",
        "def menor(x,y,z):\n",
        "  r = x\n",
        "  if y < r:\n",
        "    r = y\n",
        "  if z < r:\n",
        "    r = z\n",
        "  return r\n",
        "\n",
        "n1 = int(input('Digite um número:'))\n",
        "n2 = int(input('Digite um número:'))\n",
        "n3 = int(input('Digite um número:'))\n",
        "\n",
        "m = menor(n1,n2,n3)\n",
        "print('O menor número é:',m)"
      ],
      "execution_count": 0,
      "outputs": []
    },
    {
      "cell_type": "code",
      "metadata": {
        "id": "gCGq_bPRP9lj",
        "colab_type": "code",
        "colab": {}
      },
      "source": [
        "#######################\n",
        "#\n",
        "# Exercício 2 - Escreva uma função chamada fatorial que receba um número inteiro e retorne seu\n",
        "# fatorial. Faça também um programa para testar a função.\n",
        "#\n",
        "#######################"
      ],
      "execution_count": 0,
      "outputs": []
    },
    {
      "cell_type": "code",
      "metadata": {
        "id": "1IQQKaLMQHAO",
        "colab_type": "code",
        "colab": {}
      },
      "source": [
        "#######################\n",
        "#\n",
        "# Exercício 3 - Escreva uma função chamada primo para determinar se um número é primo ou não. A\n",
        "# função deve receber um número inteiro, retornar True se o número for primo, ou False caso\n",
        "# contrário. Escreva também um programa que, usando a função criada, exiba os números\n",
        "# primos entre 1 e 100.\n",
        "#\n",
        "#######################"
      ],
      "execution_count": 0,
      "outputs": []
    },
    {
      "cell_type": "code",
      "metadata": {
        "id": "jnx0MQJpSQXC",
        "colab_type": "code",
        "colab": {}
      },
      "source": [
        "#######################\n",
        "#\n",
        "# Exercício 4 - Escreva uma função vogal que receba uma letra e verifique se a letra é uma vogal,\n",
        "# retornando o valor True nesse caso, ou o valor False caso contrário. Faça também um\n",
        "# programa para testar a função.\n",
        "#\n",
        "#######################\n",
        "def vogal(v,vogais):\n",
        "  if v in vogais:\n",
        "    return True\n",
        "  else:\n",
        "    return False\n",
        "\n",
        "lista_vogais = ['a','e','i','o','u','A','E','I','O','U']\n",
        "\n",
        "dado = 'a'\n",
        "\n",
        "print(vogal(dado,lista_vogais))\n",
        "  \n",
        "  \n",
        "\n",
        "  "
      ],
      "execution_count": 0,
      "outputs": []
    }
  ]
}