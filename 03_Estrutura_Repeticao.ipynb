{
  "nbformat": 4,
  "nbformat_minor": 0,
  "metadata": {
    "colab": {
      "name": "03-Estrutura_Repeticao.ipynb",
      "provenance": [],
      "include_colab_link": true
    },
    "kernelspec": {
      "name": "python3",
      "display_name": "Python 3"
    }
  },
  "cells": [
    {
      "cell_type": "markdown",
      "metadata": {
        "id": "view-in-github",
        "colab_type": "text"
      },
      "source": [
        "<a href=\"https://colab.research.google.com/github/tmoura/estruturarc/blob/master/03_Estrutura_Repeticao.ipynb\" target=\"_parent\"><img src=\"https://colab.research.google.com/assets/colab-badge.svg\" alt=\"Open In Colab\"/></a>"
      ]
    },
    {
      "cell_type": "code",
      "metadata": {
        "id": "ifyILOFYSm8B",
        "colab_type": "code",
        "colab": {}
      },
      "source": [
        "#########################\n",
        "# Estruturas de Repetição\n",
        "#\n",
        "# Só existe o FOR e WHILE\n",
        "#\n",
        "#########################\n",
        "\n",
        "for i in range(10):\n",
        "  print(i)\n",
        "  \n",
        "\n",
        "# ATENÇÃO: Cuidado com os : (dois pontos)\n",
        "\n",
        "#\n",
        "# range(start,stop,step)\n",
        "#"
      ],
      "execution_count": 0,
      "outputs": []
    },
    {
      "cell_type": "code",
      "metadata": {
        "id": "7SmIWw-DTbNC",
        "colab_type": "code",
        "colab": {}
      },
      "source": [
        "\n",
        "for i in range(20,30,1):\n",
        "  print(i)"
      ],
      "execution_count": 0,
      "outputs": []
    },
    {
      "cell_type": "code",
      "metadata": {
        "id": "Qb_6-2E8ThvS",
        "colab_type": "code",
        "colab": {}
      },
      "source": [
        "#############\n",
        "#\n",
        "# Imprimir os números pares de 1 a 100\n",
        "#\n",
        "#############\n"
      ],
      "execution_count": 0,
      "outputs": []
    },
    {
      "cell_type": "code",
      "metadata": {
        "id": "JetIi5sWTu75",
        "colab_type": "code",
        "colab": {}
      },
      "source": [
        "#############\n",
        "#\n",
        "# Imprimir os números ímpares de 1 a 100\n",
        "#\n",
        "#############"
      ],
      "execution_count": 0,
      "outputs": []
    }
  ]
}