{
  "nbformat": 4,
  "nbformat_minor": 0,
  "metadata": {
    "colab": {
      "name": "arvore_binaria.ipynb",
      "provenance": [],
      "authorship_tag": "ABX9TyP3UyFGfpTTmFc8xLJK0bgo",
      "include_colab_link": true
    },
    "kernelspec": {
      "name": "python3",
      "display_name": "Python 3"
    }
  },
  "cells": [
    {
      "cell_type": "markdown",
      "metadata": {
        "id": "view-in-github",
        "colab_type": "text"
      },
      "source": [
        "<a href=\"https://colab.research.google.com/github/tmoura/estruturarc/blob/master/arvore_binaria.ipynb\" target=\"_parent\"><img src=\"https://colab.research.google.com/assets/colab-badge.svg\" alt=\"Open In Colab\"/></a>"
      ]
    },
    {
      "cell_type": "code",
      "metadata": {
        "id": "g1OePrwYRYru",
        "colab_type": "code",
        "colab": {}
      },
      "source": [
        "class No:\n",
        "\n",
        "  def __init__(self,dado = None, left=None, right=None):\n",
        "    self.dado = dado\n",
        "    self.left = left\n",
        "    self.right = right\n",
        "\n",
        "  def get_dado(self):\n",
        "    return self.dado\n",
        "  \n",
        "  def get_left(self):\n",
        "    return self.left\n",
        "\n",
        "  def get_right(self):\n",
        "    return self.right\n",
        "\n",
        "  def set_dado(self, novo):\n",
        "    self.dado = novo\n",
        "\n",
        "  def set_left(self, left):\n",
        "    if self.left != None:\n",
        "      print(\"Já existe o No a esquerda\")\n",
        "    else:\n",
        "      self.left = left\n",
        "\n",
        "  def set_right(self, right):\n",
        "    if self.right != None:\n",
        "      print(\"Já existe o No a esquerda\")\n",
        "    else:\n",
        "      self.right = right\n",
        "\n",
        "  def __str__(self):\n",
        "    return self.dado\n",
        "\n",
        "\n",
        "def preOrdem(arvore):\n",
        "  if arvore != None:\n",
        "    print(arvore)\n",
        "    preOrdem(arvore.get_left())\n",
        "    preOrdem(arvore.get_right())\n",
        "\n",
        "def ordem(arvore):\n",
        "  if arvore != None:\n",
        "    ordem(arvore.get_left())\n",
        "    print(arvore)\n",
        "    ordem(arvore.get_right())\n",
        "\n",
        "def posOrdem(arvore):\n",
        "  if arvore != None:\n",
        "    posOrdem(arvore.get_left())\n",
        "    posOrdem(arvore.get_right())\n",
        "    print(arvore)\n"
      ],
      "execution_count": 0,
      "outputs": []
    }
  ]
}