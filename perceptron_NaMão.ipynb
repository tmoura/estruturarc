{
  "nbformat": 4,
  "nbformat_minor": 0,
  "metadata": {
    "colab": {
      "name": "perceptron-NaMão.ipynb",
      "provenance": [],
      "include_colab_link": true
    },
    "kernelspec": {
      "name": "python3",
      "display_name": "Python 3"
    }
  },
  "cells": [
    {
      "cell_type": "markdown",
      "metadata": {
        "id": "view-in-github",
        "colab_type": "text"
      },
      "source": [
        "<a href=\"https://colab.research.google.com/github/tmoura/estruturarc/blob/master/perceptron_NaM%C3%A3o.ipynb\" target=\"_parent\"><img src=\"https://colab.research.google.com/assets/colab-badge.svg\" alt=\"Open In Colab\"/></a>"
      ]
    },
    {
      "cell_type": "code",
      "metadata": {
        "id": "AduYJt5SlAtT",
        "colab_type": "code",
        "colab": {}
      },
      "source": [
        "#############\n",
        "#\n",
        "# Implementação do Perceptron para reconhecimento dos padrões H e T\n",
        "#\n",
        "#############\n",
        "from sklearn.model_selection import train_test_split\n",
        "from sklearn import metrics\n",
        "import pandas as pd\n",
        "import numpy as np\n",
        "\n",
        "url = \"https://raw.githubusercontent.com/tmoura/machinelearning/master/irisPerceptron.data\"\n",
        "\n",
        "# IRIS\n",
        "col_names = ['label', 'x1', 'x2','x3','x4']\n",
        "feature_cols = ['x1', 'x2','x3','x4']\n",
        "\n",
        "# Carregar base de dados\n",
        "dataset = pd.read_csv(url, header=None, names=col_names)\n",
        "\n",
        "X = dataset[feature_cols] # Atributos (Features)\n",
        "y = dataset.label # Saída"
      ],
      "execution_count": 0,
      "outputs": []
    },
    {
      "cell_type": "code",
      "metadata": {
        "id": "8GzNbCmOdEf9",
        "colab_type": "code",
        "colab": {}
      },
      "source": [
        "X_train, X_test, y_train, y_test = train_test_split(X, y, test_size=0.2, random_state=None, stratify=y) # 80% treino e 20% teste\n",
        "\n",
        "### Tranforma os dados em listas\n",
        "\n",
        "train_x = X_train.values.tolist()\n",
        "train_y = y_train.values.tolist()\n",
        "\n",
        "test_x = X_test.values.tolist()\n",
        "test_y = y_test.values.tolist()\n",
        "\n",
        "for i in range(len(train_x)):\n",
        "  train_x[i].pop() # Remover o atributo 4\n",
        "  train_x[i].pop(1) # Remover o atributo 2\n",
        "\n",
        "for i in range(len(test_x)):\n",
        "  test_x[i].pop()\n",
        "  test_x[i].pop(1)"
      ],
      "execution_count": 0,
      "outputs": []
    },
    {
      "cell_type": "code",
      "metadata": {
        "id": "Odi04B0CfO69",
        "colab_type": "code",
        "colab": {}
      },
      "source": [
        "######\n",
        "#\n",
        "# Classe Perceptron\n",
        "#\n",
        "######\n",
        "\n",
        "class Perceptron:\n",
        "\n",
        "  def __init__(self):\n",
        "\n",
        "    self.teta = 0\n",
        "    self.w = [0,0]\n",
        "    self.n = 0.05\n",
        "\n",
        "  def train_perceptron(self,train_x,train_y):\n",
        "\n",
        "    for i in range(100):\n",
        "      for j in range(len(train_x)):\n",
        "\n",
        "        u = sum(np.array(self.w) * np.array(train_x[j])) + self.teta\n",
        "\n",
        "        if(u >= 0):\n",
        "          y = 1\n",
        "        else:\n",
        "          y = -1\n",
        "\n",
        "        erro = train_y[j] - y\n",
        "\n",
        "        self.w = list(np.array(self.w) + (self.n * np.array(train_x[j]) * erro))\n",
        "\n",
        "        self.teta = self.teta + (self.n * 1 * erro)\n",
        "\n",
        "\n",
        "\n",
        "  def predict_perceptron(self,test_x):\n",
        "\n",
        "    results = []\n",
        "\n",
        "    for i in range(len(test_x)):\n",
        "        \n",
        "        u = sum(np.array(self.w) * np.array(test_x[i])) + self.teta\n",
        "        \n",
        "        if (u >= 0):\n",
        "            results.append(1)\n",
        "        else:\n",
        "            results.append(-1);\n",
        "\n",
        "    return results"
      ],
      "execution_count": 0,
      "outputs": []
    },
    {
      "cell_type": "code",
      "metadata": {
        "id": "CT3eMaO-fSwB",
        "colab_type": "code",
        "colab": {}
      },
      "source": [
        "######\n",
        "#\n",
        "# Cálculo da Acurácia\n",
        "#\n",
        "######\n",
        "model = Perceptron()\n",
        "model.train_perceptron(train_x,train_y)\n",
        "\n",
        "print(model.w)\n",
        "\n",
        "result = model.predict_perceptron(test_x)\n",
        "\n",
        "acc = metrics.accuracy_score(result, test_y)\n",
        "show = round(acc * 100)\n",
        "print(\"{}%\".format(show))"
      ],
      "execution_count": 0,
      "outputs": []
    }
  ]
}