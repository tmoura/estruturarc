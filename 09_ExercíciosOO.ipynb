{
  "nbformat": 4,
  "nbformat_minor": 0,
  "metadata": {
    "colab": {
      "name": "09-ExercíciosOO.ipynb",
      "provenance": [],
      "include_colab_link": true
    },
    "kernelspec": {
      "name": "python3",
      "display_name": "Python 3"
    }
  },
  "cells": [
    {
      "cell_type": "markdown",
      "metadata": {
        "id": "view-in-github",
        "colab_type": "text"
      },
      "source": [
        "<a href=\"https://colab.research.google.com/github/tmoura/estruturarc/blob/master/09_Exerc%C3%ADciosOO.ipynb\" target=\"_parent\"><img src=\"https://colab.research.google.com/assets/colab-badge.svg\" alt=\"Open In Colab\"/></a>"
      ]
    },
    {
      "cell_type": "code",
      "metadata": {
        "id": "GZDu8p8FGmIU",
        "colab_type": "code",
        "colab": {}
      },
      "source": [
        "# 1) Implemente uma classe ContaCorrente, cujos atributos dos seus objetos são numero, saldo e\n",
        "# nome_titular. Ainda na classe, implemente os métodos depositar e sacar, parametrizando neles,\n",
        "# o valor a ser depositado ou sacado, respectivamente. O método depositar não possui retorno,\n",
        "# devendo apenas incrementar o valor do saldo. O método sacar devera retornar um valor\n",
        "# booleano (true – se sacou com sucesso, pois há saldo suficiente, decrementando-o; ou false\n",
        "# caso contrário). A classe também deverá possuir um construtor, para inicializar os valores dos\n",
        "# atributos dos objetos instanciados. Em seguida:\n",
        "\n",
        "# a) Escreva um programa para criar dez instâncias (objetos) de ContaCorrente,\n",
        "# armazenando-os em uma list. Os valores para inicialização dos objetos deverão ser lidos\n",
        "# do teclado;\n",
        "\n",
        "# b) Criados os objetos, disponibilize um menu de operações para o usuário. Em um loop, o\n",
        "# programa ficará solicitando ao usuário, qual o número da operação abaixo ele deseja\n",
        "# realizar:\n",
        "\n",
        "#   1) Depositar\n",
        "#   Ao digitar a opção 1, o programa deverá ler o número da conta e o valor a ser\n",
        "#   depositado, e realizar a operação.\n",
        "\n",
        "#   2) Sacar\n",
        "#   Ao digitar a opção 2, o programa deverá ler o número da conta e o valor a ser\n",
        "#   sacado, e realizar a operação, testando se o saque ocorreu ou não.\n",
        "\n",
        "#   3) Saldo\n",
        "#   Ao digitar a opção 3, o programa devera ler o número da conta e exibir o seu\n",
        "#   saldo.\n",
        "\n",
        "#   4) Sair\n",
        "#   Ao digitar a opção 4, o programa deverá ser encerrado. O loop só será encerrado\n",
        "#   quando esta operação for informada."
      ],
      "execution_count": 0,
      "outputs": []
    },
    {
      "cell_type": "code",
      "metadata": {
        "id": "q9pY1e6gG705",
        "colab_type": "code",
        "colab": {}
      },
      "source": [
        "# 2) Faça\tum programa\tde agenda\ttelefônica, com\tas\tclasses\tAgenda\te\tContato.\n",
        "\n",
        "# Escreva um programa que crie uma Agenda com 5 contatos. O programa deve imprimir\n",
        "# O nome e telefone de cada um dos contatos da agenda.\n",
        "class Agenda():\n",
        "  def __init__(self):\n",
        "    self.contatos = []\n",
        "  \n",
        "  def add_contato(self,contato):\n",
        "    self.contatos.append(contato)\n",
        "\n",
        "  def print_contatos(self):\n",
        "    for i in range(len(self.contatos)):\n",
        "      nome = self.contatos[i].nome\n",
        "      telefone = self.contatos[i].telefone\n",
        "      print(\"Nome: {}\\nTelefone:{}\".format(nome,telefone))\n",
        "\n",
        "class Contato:\n",
        "  def __init__(self,nome,telefone):\n",
        "    self.nome = nome\n",
        "    self.telefone = telefone\n",
        "  \n",
        "\n",
        "agenda = Agenda()\n",
        "\n",
        "for i in range(3):\n",
        "  n = input('Digite o nome: ')\n",
        "  t = input('Digite o telefone: ')\n",
        "  c = Contato(n,t)\n",
        "  agenda.add_contato(c)\n",
        "\n",
        "agenda.print_contatos()"
      ],
      "execution_count": 0,
      "outputs": []
    },
    {
      "cell_type": "code",
      "metadata": {
        "id": "ZeAi_L1gHkye",
        "colab_type": "code",
        "colab": {}
      },
      "source": [
        "# 3) Faça\t um\t programa\t para\t controle\t de\t empréstimo\t de\t livros, com\tas classes Emprestimo,\t\n",
        "# Livro e\tPessoa.\n",
        "\n",
        "# - Cada Pessoa pode pedir emprestado mais de um Livro\n",
        "# - Um objeto Emprestimo possui uma lista de pessoas que possuem empréstimos\n",
        "\n",
        "# Crie um programa para ler dados de 2 Pessoas e cada uma delas irá pedir emprestado 2 livros.\n",
        "# Através do objeto Empréstimo, imprima o título de todos os livros que estão emprestados."
      ],
      "execution_count": 0,
      "outputs": []
    }
  ]
}