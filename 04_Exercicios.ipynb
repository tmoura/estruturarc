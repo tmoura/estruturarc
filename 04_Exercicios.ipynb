{
  "nbformat": 4,
  "nbformat_minor": 0,
  "metadata": {
    "colab": {
      "name": "04-Exercicios.ipynb",
      "provenance": [],
      "include_colab_link": true
    },
    "kernelspec": {
      "name": "python3",
      "display_name": "Python 3"
    }
  },
  "cells": [
    {
      "cell_type": "markdown",
      "metadata": {
        "id": "view-in-github",
        "colab_type": "text"
      },
      "source": [
        "<a href=\"https://colab.research.google.com/github/tmoura/estruturarc/blob/master/04_Exercicios.ipynb\" target=\"_parent\"><img src=\"https://colab.research.google.com/assets/colab-badge.svg\" alt=\"Open In Colab\"/></a>"
      ]
    },
    {
      "cell_type": "code",
      "metadata": {
        "id": "zKQSH1VDdjfj",
        "colab_type": "code",
        "colab": {}
      },
      "source": [
        "######################\n",
        "#1. Escreva um programa que gere e mostre a sequência 100, 90, 80, 70, ..., 0.\n",
        "######################"
      ],
      "execution_count": 0,
      "outputs": []
    },
    {
      "cell_type": "code",
      "metadata": {
        "id": "p2i_AgEgd2Eo",
        "colab_type": "code",
        "colab": {}
      },
      "source": [
        "######################\n",
        "#2. Escreva um programa que gere e mostre os números múltiplos de 5 entre 1 e 50\n",
        "######################"
      ],
      "execution_count": 0,
      "outputs": []
    },
    {
      "cell_type": "code",
      "metadata": {
        "id": "oAjByUNgeS-d",
        "colab_type": "code",
        "colab": {}
      },
      "source": [
        "######################\n",
        "#3. Escreva um programa que leia um número N, inteiro, e some todos os números de 1 até N,\n",
        "# mostrando o resultado\n",
        "######################"
      ],
      "execution_count": 0,
      "outputs": []
    },
    {
      "cell_type": "code",
      "metadata": {
        "id": "PIOhTvm3ebvO",
        "colab_type": "code",
        "colab": {}
      },
      "source": [
        "######################\n",
        "#4. Faça um programa que leia um número inteiro e determine se ele é par ou ímpar. Ao final, o\n",
        "# programa deve perguntar se o usuário deseja continuar (digitar outro número) ou sair. Se o\n",
        "# usuário quiser continuar, o programa deve repetir tudo de novo, caso contrário o programa\n",
        "# deve ser encerrado\n",
        "######################"
      ],
      "execution_count": 0,
      "outputs": []
    },
    {
      "cell_type": "code",
      "metadata": {
        "id": "lsL21sx8esu4",
        "colab_type": "code",
        "colab": {}
      },
      "source": [
        ""
      ],
      "execution_count": 0,
      "outputs": []
    }
  ]
}